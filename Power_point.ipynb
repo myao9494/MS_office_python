{
 "cells": [
  {
   "cell_type": "code",
   "execution_count": 1,
   "metadata": {
    "ExecuteTime": {
     "end_time": "2019-01-14T05:37:41.041768Z",
     "start_time": "2019-01-14T05:37:40.783267Z"
    }
   },
   "outputs": [],
   "source": [
    "! explorer ."
   ]
  },
  {
   "cell_type": "markdown",
   "metadata": {},
   "source": [
    "### クラス化"
   ]
  },
  {
   "cell_type": "code",
   "execution_count": 1,
   "metadata": {
    "ExecuteTime": {
     "end_time": "2019-01-15T11:25:02.039004Z",
     "start_time": "2019-01-15T11:25:01.244380Z"
    }
   },
   "outputs": [],
   "source": [
    "import python_pptx_code"
   ]
  },
  {
   "cell_type": "code",
   "execution_count": 2,
   "metadata": {
    "ExecuteTime": {
     "end_time": "2019-01-15T11:25:03.111078Z",
     "start_time": "2019-01-15T11:25:03.017428Z"
    }
   },
   "outputs": [],
   "source": [
    "file_path = r\"C:\\Users\\mineo\\000_work\\MS_office_python\\test.pptx\"\n",
    "self = python_pptx_code.pptx(file_path)"
   ]
  },
  {
   "cell_type": "code",
   "execution_count": 3,
   "metadata": {
    "ExecuteTime": {
     "end_time": "2019-01-15T11:25:03.924890Z",
     "start_time": "2019-01-15T11:25:03.909899Z"
    },
    "scrolled": true
   },
   "outputs": [
    {
     "data": {
      "text/plain": [
       "('C:\\\\Users\\\\mineo\\\\000_work\\\\MS_office_python',\n",
       " 'test.pptx',\n",
       " 'test',\n",
       " '.pptx',\n",
       " 'C:\\\\Users\\\\mineo\\\\000_work\\\\MS_office_python\\\\temp\\\\test.csv')"
      ]
     },
     "execution_count": 3,
     "metadata": {},
     "output_type": "execute_result"
    }
   ],
   "source": [
    "self.foldr_path,self.file_name,self.name,self.ext,self.csv_file_path"
   ]
  },
  {
   "cell_type": "code",
   "execution_count": 10,
   "metadata": {
    "ExecuteTime": {
     "end_time": "2019-01-15T11:26:09.775841Z",
     "start_time": "2019-01-15T11:26:09.743862Z"
    }
   },
   "outputs": [
    {
     "data": {
      "text/html": [
       "<div>\n",
       "<style scoped>\n",
       "    .dataframe tbody tr th:only-of-type {\n",
       "        vertical-align: middle;\n",
       "    }\n",
       "\n",
       "    .dataframe tbody tr th {\n",
       "        vertical-align: top;\n",
       "    }\n",
       "\n",
       "    .dataframe thead th {\n",
       "        text-align: right;\n",
       "    }\n",
       "</style>\n",
       "<table border=\"1\" class=\"dataframe\">\n",
       "  <thead>\n",
       "    <tr style=\"text-align: right;\">\n",
       "      <th></th>\n",
       "      <th>slide_id</th>\n",
       "      <th>shape_id</th>\n",
       "      <th>text</th>\n",
       "    </tr>\n",
       "  </thead>\n",
       "  <tbody>\n",
       "    <tr>\n",
       "      <th>0</th>\n",
       "      <td>256</td>\n",
       "      <td>2</td>\n",
       "      <td>Hello, World!</td>\n",
       "    </tr>\n",
       "    <tr>\n",
       "      <th>1</th>\n",
       "      <td>256</td>\n",
       "      <td>3</td>\n",
       "      <td>python-pptx was here!</td>\n",
       "    </tr>\n",
       "    <tr>\n",
       "      <th>2</th>\n",
       "      <td>257</td>\n",
       "      <td>2</td>\n",
       "      <td></td>\n",
       "    </tr>\n",
       "    <tr>\n",
       "      <th>3</th>\n",
       "      <td>257</td>\n",
       "      <td>3</td>\n",
       "      <td></td>\n",
       "    </tr>\n",
       "    <tr>\n",
       "      <th>4</th>\n",
       "      <td>257</td>\n",
       "      <td>4</td>\n",
       "      <td>[[District, Population, Ratio, dddd], [Hampshi...</td>\n",
       "    </tr>\n",
       "    <tr>\n",
       "      <th>5</th>\n",
       "      <td>258</td>\n",
       "      <td>2</td>\n",
       "      <td></td>\n",
       "    </tr>\n",
       "    <tr>\n",
       "      <th>6</th>\n",
       "      <td>258</td>\n",
       "      <td>3</td>\n",
       "      <td></td>\n",
       "    </tr>\n",
       "    <tr>\n",
       "      <th>7</th>\n",
       "      <td>258</td>\n",
       "      <td>4</td>\n",
       "      <td>[[District, Population, Ratio, dddd], [Hampshi...</td>\n",
       "    </tr>\n",
       "    <tr>\n",
       "      <th>8</th>\n",
       "      <td>259</td>\n",
       "      <td>2</td>\n",
       "      <td></td>\n",
       "    </tr>\n",
       "    <tr>\n",
       "      <th>9</th>\n",
       "      <td>259</td>\n",
       "      <td>3</td>\n",
       "      <td></td>\n",
       "    </tr>\n",
       "    <tr>\n",
       "      <th>10</th>\n",
       "      <td>259</td>\n",
       "      <td>4</td>\n",
       "      <td>[[District, Population, Ratio, dddd], [Hampshi...</td>\n",
       "    </tr>\n",
       "    <tr>\n",
       "      <th>11</th>\n",
       "      <td>260</td>\n",
       "      <td>2</td>\n",
       "      <td></td>\n",
       "    </tr>\n",
       "    <tr>\n",
       "      <th>12</th>\n",
       "      <td>260</td>\n",
       "      <td>3</td>\n",
       "      <td></td>\n",
       "    </tr>\n",
       "    <tr>\n",
       "      <th>13</th>\n",
       "      <td>260</td>\n",
       "      <td>4</td>\n",
       "      <td>[[District, Population, Ratio, dddd], [Hampshi...</td>\n",
       "    </tr>\n",
       "    <tr>\n",
       "      <th>14</th>\n",
       "      <td>261</td>\n",
       "      <td>2</td>\n",
       "      <td></td>\n",
       "    </tr>\n",
       "    <tr>\n",
       "      <th>15</th>\n",
       "      <td>261</td>\n",
       "      <td>3</td>\n",
       "      <td></td>\n",
       "    </tr>\n",
       "    <tr>\n",
       "      <th>16</th>\n",
       "      <td>261</td>\n",
       "      <td>4</td>\n",
       "      <td>[[District, Population, Ratio, dddd], [Hampshi...</td>\n",
       "    </tr>\n",
       "    <tr>\n",
       "      <th>17</th>\n",
       "      <td>262</td>\n",
       "      <td>2</td>\n",
       "      <td></td>\n",
       "    </tr>\n",
       "    <tr>\n",
       "      <th>18</th>\n",
       "      <td>262</td>\n",
       "      <td>3</td>\n",
       "      <td></td>\n",
       "    </tr>\n",
       "    <tr>\n",
       "      <th>19</th>\n",
       "      <td>262</td>\n",
       "      <td>4</td>\n",
       "      <td>[[District, Population, Ratio, dddd], [Hampshi...</td>\n",
       "    </tr>\n",
       "    <tr>\n",
       "      <th>20</th>\n",
       "      <td>263</td>\n",
       "      <td>2</td>\n",
       "      <td></td>\n",
       "    </tr>\n",
       "    <tr>\n",
       "      <th>21</th>\n",
       "      <td>263</td>\n",
       "      <td>3</td>\n",
       "      <td></td>\n",
       "    </tr>\n",
       "    <tr>\n",
       "      <th>22</th>\n",
       "      <td>263</td>\n",
       "      <td>4</td>\n",
       "      <td>[[District, Population, Ratio, dddd], [Hampshi...</td>\n",
       "    </tr>\n",
       "    <tr>\n",
       "      <th>23</th>\n",
       "      <td>264</td>\n",
       "      <td>2</td>\n",
       "      <td></td>\n",
       "    </tr>\n",
       "    <tr>\n",
       "      <th>24</th>\n",
       "      <td>264</td>\n",
       "      <td>3</td>\n",
       "      <td></td>\n",
       "    </tr>\n",
       "    <tr>\n",
       "      <th>25</th>\n",
       "      <td>264</td>\n",
       "      <td>4</td>\n",
       "      <td>[[District, Population, Ratio, dddd], [Hampshi...</td>\n",
       "    </tr>\n",
       "    <tr>\n",
       "      <th>26</th>\n",
       "      <td>265</td>\n",
       "      <td>2</td>\n",
       "      <td></td>\n",
       "    </tr>\n",
       "    <tr>\n",
       "      <th>27</th>\n",
       "      <td>265</td>\n",
       "      <td>3</td>\n",
       "      <td></td>\n",
       "    </tr>\n",
       "    <tr>\n",
       "      <th>28</th>\n",
       "      <td>265</td>\n",
       "      <td>4</td>\n",
       "      <td>[[District, Population, Ratio, dddd], [Hampshi...</td>\n",
       "    </tr>\n",
       "    <tr>\n",
       "      <th>29</th>\n",
       "      <td>266</td>\n",
       "      <td>2</td>\n",
       "      <td></td>\n",
       "    </tr>\n",
       "    <tr>\n",
       "      <th>30</th>\n",
       "      <td>266</td>\n",
       "      <td>3</td>\n",
       "      <td></td>\n",
       "    </tr>\n",
       "    <tr>\n",
       "      <th>31</th>\n",
       "      <td>266</td>\n",
       "      <td>4</td>\n",
       "      <td>[[District, Population, Ratio, dddd], [Hampshi...</td>\n",
       "    </tr>\n",
       "  </tbody>\n",
       "</table>\n",
       "</div>"
      ],
      "text/plain": [
       "    slide_id  shape_id                                               text\n",
       "0        256         2                                      Hello, World!\n",
       "1        256         3                              python-pptx was here!\n",
       "2        257         2                                                   \n",
       "3        257         3                                                   \n",
       "4        257         4  [[District, Population, Ratio, dddd], [Hampshi...\n",
       "5        258         2                                                   \n",
       "6        258         3                                                   \n",
       "7        258         4  [[District, Population, Ratio, dddd], [Hampshi...\n",
       "8        259         2                                                   \n",
       "9        259         3                                                   \n",
       "10       259         4  [[District, Population, Ratio, dddd], [Hampshi...\n",
       "11       260         2                                                   \n",
       "12       260         3                                                   \n",
       "13       260         4  [[District, Population, Ratio, dddd], [Hampshi...\n",
       "14       261         2                                                   \n",
       "15       261         3                                                   \n",
       "16       261         4  [[District, Population, Ratio, dddd], [Hampshi...\n",
       "17       262         2                                                   \n",
       "18       262         3                                                   \n",
       "19       262         4  [[District, Population, Ratio, dddd], [Hampshi...\n",
       "20       263         2                                                   \n",
       "21       263         3                                                   \n",
       "22       263         4  [[District, Population, Ratio, dddd], [Hampshi...\n",
       "23       264         2                                                   \n",
       "24       264         3                                                   \n",
       "25       264         4  [[District, Population, Ratio, dddd], [Hampshi...\n",
       "26       265         2                                                   \n",
       "27       265         3                                                   \n",
       "28       265         4  [[District, Population, Ratio, dddd], [Hampshi...\n",
       "29       266         2                                                   \n",
       "30       266         3                                                   \n",
       "31       266         4  [[District, Population, Ratio, dddd], [Hampshi..."
      ]
     },
     "execution_count": 10,
     "metadata": {},
     "output_type": "execute_result"
    }
   ],
   "source": [
    "self.df_ppt"
   ]
  },
  {
   "cell_type": "code",
   "execution_count": 5,
   "metadata": {
    "ExecuteTime": {
     "end_time": "2019-01-15T11:25:06.325277Z",
     "start_time": "2019-01-15T11:25:06.276308Z"
    }
   },
   "outputs": [
    {
     "name": "stdout",
     "output_type": "stream",
     "text": [
      "上書きしました\n"
     ]
    },
    {
     "name": "stderr",
     "output_type": "stream",
     "text": [
      "C:\\Users\\mineo\\Anaconda3\\lib\\site-packages\\pd2ppt-0.1.0-py3.6.egg\\pd2ppt\\pd2ppt.py:128: FutureWarning: Method .as_matrix will be removed in a future version. Use .values instead.\n",
      "  m = df.as_matrix()\n"
     ]
    }
   ],
   "source": [
    "import pandas as pd\n",
    "df = pd.DataFrame(\n",
    "    {'District':['Hampshire', 'Dorset', 'Wiltshire', 'Worcestershire'],\n",
    "     'Population':[25000, 500000, 735298, 12653],\n",
    "     'Ratio':[1.56, 7.34, 3.67, 8.23],\n",
    "    'dddd':[15,65,25,65]})\n",
    "\n",
    "self.add_table_from_df(df)"
   ]
  },
  {
   "cell_type": "code",
   "execution_count": 6,
   "metadata": {
    "ExecuteTime": {
     "end_time": "2019-01-15T11:25:07.955939Z",
     "start_time": "2019-01-15T11:25:07.944946Z"
    }
   },
   "outputs": [
    {
     "name": "stdout",
     "output_type": "stream",
     "text": [
      "C:\\Users\\mineo\\000_work\\MS_office_python\\temp\\test.csvにcsvを保存しました\n"
     ]
    }
   ],
   "source": [
    "self.pptx_to_csv()"
   ]
  },
  {
   "cell_type": "code",
   "execution_count": 7,
   "metadata": {
    "ExecuteTime": {
     "end_time": "2019-01-15T11:25:26.699886Z",
     "start_time": "2019-01-15T11:25:26.628933Z"
    }
   },
   "outputs": [
    {
     "name": "stdout",
     "output_type": "stream",
     "text": [
      "変更  :  python-pptx was here! → python-pptx was here!変更\n",
      "パワポを更新しました\n"
     ]
    }
   ],
   "source": [
    "self.csv_to_pptx()"
   ]
  },
  {
   "cell_type": "markdown",
   "metadata": {},
   "source": [
    "## Power point\n",
    "https://python-pptx.readthedocs.io/en/latest/#"
   ]
  },
  {
   "cell_type": "markdown",
   "metadata": {},
   "source": [
    "### パワポのスライドを作成する(基本）\n",
    "- [Pythonでパワポの説明資料（報告書）を生成する](https://qiita.com/code_440/items/22e8539da465686496d3)"
   ]
  },
  {
   "cell_type": "code",
   "execution_count": 2,
   "metadata": {
    "ExecuteTime": {
     "end_time": "2019-01-14T05:37:58.590332Z",
     "start_time": "2019-01-14T05:37:57.865428Z"
    }
   },
   "outputs": [],
   "source": [
    "from pptx import Presentation\n",
    "import pandas as pd\n",
    "\n",
    "prs = Presentation()\n",
    "title_slide_layout = prs.slide_layouts[0]\n",
    "slide = prs.slides.add_slide(title_slide_layout)\n",
    "title = slide.shapes.title\n",
    "subtitle = slide.placeholders[1]\n",
    "\n",
    "title.text = \"Hello, World!\"\n",
    "subtitle.text = \"python-pptx was here!\"\n",
    "\n",
    "prs.save('test.pptx')"
   ]
  },
  {
   "cell_type": "markdown",
   "metadata": {},
   "source": [
    "### 既存のパワポを読み込み（テンプレートを使用する）"
   ]
  },
  {
   "cell_type": "code",
   "execution_count": 3,
   "metadata": {
    "ExecuteTime": {
     "end_time": "2019-01-14T05:37:59.906449Z",
     "start_time": "2019-01-14T05:37:59.868474Z"
    }
   },
   "outputs": [],
   "source": [
    "prs = Presentation('test.pptx')\n",
    "title_only_slide_layout = prs.slide_layouts[1]\n",
    "slide = prs.slides.add_slide(title_only_slide_layout)\n",
    "shapes = slide.shapes\n",
    "\n",
    "shapes.title.text = '報告書'\n",
    "prs.save('test1.pptx')"
   ]
  },
  {
   "cell_type": "markdown",
   "metadata": {},
   "source": [
    "### pandasの表を追加する\n",
    "https://github.com/robintw/PandasToPowerpoint"
   ]
  },
  {
   "cell_type": "code",
   "execution_count": 5,
   "metadata": {
    "ExecuteTime": {
     "end_time": "2019-01-14T05:39:08.284594Z",
     "start_time": "2019-01-14T05:39:08.237626Z"
    }
   },
   "outputs": [
    {
     "name": "stderr",
     "output_type": "stream",
     "text": [
      "C:\\Users\\mineo\\Anaconda3\\lib\\site-packages\\pd2ppt-0.1.0-py3.6.egg\\pd2ppt\\pd2ppt.py:128: FutureWarning: Method .as_matrix will be removed in a future version. Use .values instead.\n",
      "  m = df.as_matrix()\n"
     ]
    }
   ],
   "source": [
    "# from pd2ppt import df_to_powerpoint\n",
    "import pd2ppt\n",
    "import pandas as pd\n",
    "prs = Presentation('test1.pptx')\n",
    "slide = prs.slides.add_slide(prs.slide_layouts[0])\n",
    "df = pd.DataFrame(\n",
    "    {'District':['Hampshire', 'Dorset', 'Wiltshire', 'Worcestershire'],\n",
    "     'Population':[25000, 500000, 735298, 12653],\n",
    "     'Ratio':[1.56, 7.34, 3.67, 8.23]})\n",
    "# df_to_powerpoint(\n",
    "#     \"test_2.pptx\", df, col_formatters=['', ',', '.2'],\n",
    "#     rounding=['', 3, ''])\n",
    "pd2ppt.df_to_table(slide,df, col_formatters=['', ',', '.2'],rounding=['', 3, ''])\n",
    "prs.save('test2.pptx')"
   ]
  },
  {
   "cell_type": "markdown",
   "metadata": {},
   "source": [
    "## パワポを読み込んでcsvへ保存（diffを見るため）\n",
    "https://stackoverflow.com/questions/37924808/python-pptx-power-point-find-and-replace-text-ctrl-h"
   ]
  },
  {
   "cell_type": "code",
   "execution_count": 6,
   "metadata": {
    "ExecuteTime": {
     "end_time": "2019-01-14T05:41:17.427877Z",
     "start_time": "2019-01-14T05:41:17.422877Z"
    }
   },
   "outputs": [],
   "source": [
    "def read_table(tbl):\n",
    "    table_tex = []\n",
    "    for r in enumerate(tbl.rows):\n",
    "#         print(r[0])\n",
    "        temp = []\n",
    "        for c in enumerate(tbl.columns):\n",
    "#             print(c[0])\n",
    "            tex = tbl.cell(r[0],c[0]).text\n",
    "            temp.append(tex)\n",
    "        table_tex.append(temp)\n",
    "    return table_tex"
   ]
  },
  {
   "cell_type": "code",
   "execution_count": 28,
   "metadata": {
    "ExecuteTime": {
     "end_time": "2019-01-14T05:58:58.434769Z",
     "start_time": "2019-01-14T05:58:58.405788Z"
    },
    "scrolled": true
   },
   "outputs": [],
   "source": [
    "from pptx import Presentation\n",
    "ppt = Presentation('test2.pptx')\n",
    "li = []\n",
    "for slide in ppt.slides:\n",
    "    for shape in slide.shapes:\n",
    "        if shape.has_text_frame:\n",
    "#             print(slide.slide_id,shape.shape_id, shape.text)\n",
    "            li.append([slide.slide_id,shape.shape_id, shape.text])\n",
    "        if shape.has_table:\n",
    "            aaa= shape\n",
    "#             print(slide.slide_id,shape.shape_id,read_table(shape.table)\n",
    "            li.append([slide.slide_id,shape.shape_id,read_table(shape.table)])\n",
    "df_a = pd.DataFrame(li)\n",
    "df_a.columns=[\"slide_id\",\"shape_id\",\"text\"]\n",
    "df_a.to_csv(\"test.csv\" ,index=False)"
   ]
  },
  {
   "cell_type": "code",
   "execution_count": 29,
   "metadata": {
    "ExecuteTime": {
     "end_time": "2019-01-14T05:58:59.176160Z",
     "start_time": "2019-01-14T05:58:59.166152Z"
    },
    "scrolled": true
   },
   "outputs": [
    {
     "data": {
      "text/html": [
       "<div>\n",
       "<style scoped>\n",
       "    .dataframe tbody tr th:only-of-type {\n",
       "        vertical-align: middle;\n",
       "    }\n",
       "\n",
       "    .dataframe tbody tr th {\n",
       "        vertical-align: top;\n",
       "    }\n",
       "\n",
       "    .dataframe thead th {\n",
       "        text-align: right;\n",
       "    }\n",
       "</style>\n",
       "<table border=\"1\" class=\"dataframe\">\n",
       "  <thead>\n",
       "    <tr style=\"text-align: right;\">\n",
       "      <th></th>\n",
       "      <th>slide_id</th>\n",
       "      <th>shape_id</th>\n",
       "      <th>text</th>\n",
       "    </tr>\n",
       "  </thead>\n",
       "  <tbody>\n",
       "    <tr>\n",
       "      <th>0</th>\n",
       "      <td>256</td>\n",
       "      <td>2</td>\n",
       "      <td>Hello, World!</td>\n",
       "    </tr>\n",
       "    <tr>\n",
       "      <th>1</th>\n",
       "      <td>256</td>\n",
       "      <td>3</td>\n",
       "      <td>python-pptx was here!</td>\n",
       "    </tr>\n",
       "    <tr>\n",
       "      <th>2</th>\n",
       "      <td>257</td>\n",
       "      <td>2</td>\n",
       "      <td>報告書</td>\n",
       "    </tr>\n",
       "    <tr>\n",
       "      <th>3</th>\n",
       "      <td>257</td>\n",
       "      <td>3</td>\n",
       "      <td></td>\n",
       "    </tr>\n",
       "    <tr>\n",
       "      <th>4</th>\n",
       "      <td>258</td>\n",
       "      <td>2</td>\n",
       "      <td></td>\n",
       "    </tr>\n",
       "    <tr>\n",
       "      <th>5</th>\n",
       "      <td>258</td>\n",
       "      <td>3</td>\n",
       "      <td></td>\n",
       "    </tr>\n",
       "    <tr>\n",
       "      <th>6</th>\n",
       "      <td>258</td>\n",
       "      <td>4</td>\n",
       "      <td>[[District, Population, Ratio], [Hampshire, 25...</td>\n",
       "    </tr>\n",
       "  </tbody>\n",
       "</table>\n",
       "</div>"
      ],
      "text/plain": [
       "   slide_id  shape_id                                               text\n",
       "0       256         2                                      Hello, World!\n",
       "1       256         3                              python-pptx was here!\n",
       "2       257         2                                                報告書\n",
       "3       257         3                                                   \n",
       "4       258         2                                                   \n",
       "5       258         3                                                   \n",
       "6       258         4  [[District, Population, Ratio], [Hampshire, 25..."
      ]
     },
     "execution_count": 29,
     "metadata": {},
     "output_type": "execute_result"
    }
   ],
   "source": [
    "df_a"
   ]
  },
  {
   "cell_type": "markdown",
   "metadata": {},
   "source": [
    "## diffを見てcsvを編集した際、その編集結果をパワポへ反映（テーブルはまだできない）"
   ]
  },
  {
   "cell_type": "code",
   "execution_count": 1,
   "metadata": {
    "ExecuteTime": {
     "end_time": "2019-01-14T06:35:12.548994Z",
     "start_time": "2019-01-14T06:35:11.933366Z"
    }
   },
   "outputs": [],
   "source": [
    "import pandas as pd\n",
    "from pptx import Presentation"
   ]
  },
  {
   "cell_type": "code",
   "execution_count": 2,
   "metadata": {
    "ExecuteTime": {
     "end_time": "2019-01-14T06:35:13.355251Z",
     "start_time": "2019-01-14T06:35:13.350252Z"
    }
   },
   "outputs": [],
   "source": [
    "def find_shape(ppt,slide_id,shape_id):\n",
    "    for slide in ppt.slides:\n",
    "        if slide.slide_id == slide_id:\n",
    "            for shape in slide.shapes:\n",
    "                if shape.shape_id == shape_id:\n",
    "                    tg = shape\n",
    "                    return tg"
   ]
  },
  {
   "cell_type": "code",
   "execution_count": 3,
   "metadata": {
    "ExecuteTime": {
     "end_time": "2019-01-14T06:35:13.844081Z",
     "start_time": "2019-01-14T06:35:13.806104Z"
    }
   },
   "outputs": [],
   "source": [
    "df_t = pd.read_csv(\"test.csv\")\n",
    "li_henko = df_t.values.tolist()\n",
    "ppt = Presentation('test2.pptx')"
   ]
  },
  {
   "cell_type": "code",
   "execution_count": 5,
   "metadata": {
    "ExecuteTime": {
     "end_time": "2019-01-14T06:36:14.709142Z",
     "start_time": "2019-01-14T06:36:14.695153Z"
    }
   },
   "outputs": [
    {
     "name": "stdout",
     "output_type": "stream",
     "text": [
      "変更なし\n"
     ]
    }
   ],
   "source": [
    "hata = 0\n",
    "for elm in li_henko:\n",
    "    taisho_shape = find_shape(ppt,elm[0],elm[1])\n",
    "    if taisho_shape.has_text_frame:\n",
    "#         print( taisho_shape.text, elm[2])\n",
    "        if taisho_shape.text != elm[2] and isinstance(elm[2], str):\n",
    "            print(\"変更  :  \" + taisho_shape.text +\" → \"+ str(elm[2]))\n",
    "            taisho_shape.text = elm[2]\n",
    "            hata = 1\n",
    "#     if taisho_shape.has_table:\n",
    "#             write_table(taisho_shape.table,elm)\n",
    "\n",
    "if hata == 0:\n",
    "    print(\"変更なし\")\n",
    "else:\n",
    "    print(\"パワポを更新しました\")\n",
    "    ppt.save('test3.pptx')"
   ]
  },
  {
   "cell_type": "markdown",
   "metadata": {},
   "source": [
    "## factory"
   ]
  },
  {
   "cell_type": "markdown",
   "metadata": {
    "ExecuteTime": {
     "end_time": "2019-01-14T04:07:04.477450Z",
     "start_time": "2019-01-14T04:07:04.470452Z"
    }
   },
   "source": [
    "### 双方向で編集できるようにする（テーブル）\n",
    "問題はリストをそのまま文字列にしてしまったところ。需要を見て今後の更新を決めよう"
   ]
  },
  {
   "cell_type": "code",
   "execution_count": 8,
   "metadata": {
    "ExecuteTime": {
     "end_time": "2019-01-14T06:37:49.439512Z",
     "start_time": "2019-01-14T06:37:49.432518Z"
    }
   },
   "outputs": [],
   "source": [
    "table_tex = find_shape(ppt,258,4)"
   ]
  },
  {
   "cell_type": "code",
   "execution_count": 160,
   "metadata": {
    "ExecuteTime": {
     "end_time": "2019-01-14T04:02:49.870761Z",
     "start_time": "2019-01-14T04:02:49.864764Z"
    }
   },
   "outputs": [],
   "source": [
    "def write_table(tbl,elm):\n",
    "    table_tex = elm[2]\n",
    "    for r in enumerate(tbl.rows):\n",
    "        row_tex = elm[r[0]]\n",
    "        for c in enumerate(tbl.columns):\n",
    "            col_tex = elm[r[0],c[0]]\n",
    "            tex = tbl.cell(r[0],c[0]).text\n",
    "            if tex != col_tex :\n",
    "                tbl.cell(r[0],c[0]).text = col_tex\n",
    "                print(\"henko\" + tex +\" → \"+ col_tex)"
   ]
  },
  {
   "cell_type": "markdown",
   "metadata": {},
   "source": [
    "## 参考\n",
    "- pythonで生成されたPPTXのテーブルの各行に一番下の行を追加する https://stackoverflow.com/questions/35915996/adding-a-bottom-line-to-each-row-in-a-table-in-a-pptx-generated-by-python\n",
    "- Read From PowerPoint Table in Python? https://stackoverflow.com/questions/27843018/read-from-powerpoint-table-in-python"
   ]
  },
  {
   "cell_type": "markdown",
   "metadata": {},
   "source": [
    "## factory"
   ]
  },
  {
   "cell_type": "code",
   "execution_count": 8,
   "metadata": {
    "ExecuteTime": {
     "end_time": "2019-01-15T10:50:04.449780Z",
     "start_time": "2019-01-15T10:50:04.444784Z"
    }
   },
   "outputs": [],
   "source": [
    "import os\n",
    "file_path = r\"C:\\Users\\mineo\\000_work\\MS_office_python\\test.pptx\"\n",
    "foldr_path = os.path.dirname(file_path)\n",
    "file_name = os.path.basename(file_path)\n",
    "name, ext = os.path.splitext(file_name)"
   ]
  },
  {
   "cell_type": "code",
   "execution_count": 10,
   "metadata": {
    "ExecuteTime": {
     "end_time": "2019-01-15T10:50:29.833305Z",
     "start_time": "2019-01-15T10:50:29.828311Z"
    }
   },
   "outputs": [
    {
     "data": {
      "text/plain": [
       "('C:\\\\Users\\\\mineo\\\\000_work\\\\MS_office_python', 'test.pptx', 'test', '.pptx')"
      ]
     },
     "execution_count": 10,
     "metadata": {},
     "output_type": "execute_result"
    }
   ],
   "source": [
    "foldr_path,file_name,name,ext"
   ]
  }
 ],
 "metadata": {
  "kernelspec": {
   "display_name": "Python 3",
   "language": "python",
   "name": "python3"
  },
  "language_info": {
   "codemirror_mode": {
    "name": "ipython",
    "version": 3
   },
   "file_extension": ".py",
   "mimetype": "text/x-python",
   "name": "python",
   "nbconvert_exporter": "python",
   "pygments_lexer": "ipython3",
   "version": "3.6.5"
  },
  "nbTranslate": {
   "displayLangs": [
    "ja",
    "en"
   ],
   "hotkey": "alt-t",
   "langInMainMenu": true,
   "sourceLang": "en",
   "targetLang": "ja",
   "useGoogleTranslate": true
  },
  "toc": {
   "base_numbering": 1,
   "nav_menu": {},
   "number_sections": true,
   "sideBar": true,
   "skip_h1_title": false,
   "title_cell": "Table of Contents",
   "title_sidebar": "Contents",
   "toc_cell": false,
   "toc_position": {
    "height": "calc(100% - 180px)",
    "left": "10px",
    "top": "150px",
    "width": "278.891px"
   },
   "toc_section_display": true,
   "toc_window_display": true
  },
  "varInspector": {
   "cols": {
    "lenName": 16,
    "lenType": 16,
    "lenVar": 40
   },
   "kernels_config": {
    "python": {
     "delete_cmd_postfix": "",
     "delete_cmd_prefix": "del ",
     "library": "var_list.py",
     "varRefreshCmd": "print(var_dic_list())"
    },
    "r": {
     "delete_cmd_postfix": ") ",
     "delete_cmd_prefix": "rm(",
     "library": "var_list.r",
     "varRefreshCmd": "cat(var_dic_list()) "
    }
   },
   "types_to_exclude": [
    "module",
    "function",
    "builtin_function_or_method",
    "instance",
    "_Feature"
   ],
   "window_display": false
  }
 },
 "nbformat": 4,
 "nbformat_minor": 2
}
