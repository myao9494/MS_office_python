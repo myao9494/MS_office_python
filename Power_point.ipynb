{
 "cells": [
  {
   "cell_type": "code",
   "execution_count": 1,
   "metadata": {
    "ExecuteTime": {
     "end_time": "2019-01-14T05:37:41.041768Z",
     "start_time": "2019-01-14T05:37:40.783267Z"
    }
   },
   "outputs": [],
   "source": [
    "! explorer ."
   ]
  },
  {
   "cell_type": "markdown",
   "metadata": {},
   "source": [
    "### クラス化"
   ]
  },
  {
   "cell_type": "code",
   "execution_count": 1,
   "metadata": {
    "ExecuteTime": {
     "end_time": "2019-01-14T07:21:42.603115Z",
     "start_time": "2019-01-14T07:21:41.991083Z"
    }
   },
   "outputs": [],
   "source": [
    "import python_pptx_code"
   ]
  },
  {
   "cell_type": "code",
   "execution_count": 2,
   "metadata": {
    "ExecuteTime": {
     "end_time": "2019-01-14T07:21:42.913457Z",
     "start_time": "2019-01-14T07:21:42.893469Z"
    }
   },
   "outputs": [],
   "source": [
    "self = python_pptx_code.pptx()"
   ]
  },
  {
   "cell_type": "code",
   "execution_count": 3,
   "metadata": {
    "ExecuteTime": {
     "end_time": "2019-01-14T07:21:44.126316Z",
     "start_time": "2019-01-14T07:21:44.122320Z"
    }
   },
   "outputs": [],
   "source": [
    "from pptx import Presentation"
   ]
  },
  {
   "cell_type": "code",
   "execution_count": 4,
   "metadata": {
    "ExecuteTime": {
     "end_time": "2019-01-14T07:21:45.502436Z",
     "start_time": "2019-01-14T07:21:45.484448Z"
    }
   },
   "outputs": [],
   "source": [
    "self.ppt= Presentation(\"test.pptx\")"
   ]
  },
  {
   "cell_type": "code",
   "execution_count": 5,
   "metadata": {
    "ExecuteTime": {
     "end_time": "2019-01-14T07:21:46.812958Z",
     "start_time": "2019-01-14T07:21:46.774982Z"
    }
   },
   "outputs": [
    {
     "data": {
      "text/html": [
       "<div>\n",
       "<style scoped>\n",
       "    .dataframe tbody tr th:only-of-type {\n",
       "        vertical-align: middle;\n",
       "    }\n",
       "\n",
       "    .dataframe tbody tr th {\n",
       "        vertical-align: top;\n",
       "    }\n",
       "\n",
       "    .dataframe thead th {\n",
       "        text-align: right;\n",
       "    }\n",
       "</style>\n",
       "<table border=\"1\" class=\"dataframe\">\n",
       "  <thead>\n",
       "    <tr style=\"text-align: right;\">\n",
       "      <th></th>\n",
       "      <th>District</th>\n",
       "      <th>Population</th>\n",
       "      <th>Ratio</th>\n",
       "      <th>dddd</th>\n",
       "    </tr>\n",
       "  </thead>\n",
       "  <tbody>\n",
       "    <tr>\n",
       "      <th>0</th>\n",
       "      <td>Hampshire</td>\n",
       "      <td>25000</td>\n",
       "      <td>1.56</td>\n",
       "      <td>15</td>\n",
       "    </tr>\n",
       "    <tr>\n",
       "      <th>1</th>\n",
       "      <td>Dorset</td>\n",
       "      <td>500000</td>\n",
       "      <td>7.34</td>\n",
       "      <td>65</td>\n",
       "    </tr>\n",
       "    <tr>\n",
       "      <th>2</th>\n",
       "      <td>Wiltshire</td>\n",
       "      <td>735298</td>\n",
       "      <td>3.67</td>\n",
       "      <td>25</td>\n",
       "    </tr>\n",
       "    <tr>\n",
       "      <th>3</th>\n",
       "      <td>Worcestershire</td>\n",
       "      <td>12653</td>\n",
       "      <td>8.23</td>\n",
       "      <td>65</td>\n",
       "    </tr>\n",
       "  </tbody>\n",
       "</table>\n",
       "</div>"
      ],
      "text/plain": [
       "         District  Population  Ratio  dddd\n",
       "0       Hampshire       25000   1.56    15\n",
       "1          Dorset      500000   7.34    65\n",
       "2       Wiltshire      735298   3.67    25\n",
       "3  Worcestershire       12653   8.23    65"
      ]
     },
     "execution_count": 5,
     "metadata": {},
     "output_type": "execute_result"
    }
   ],
   "source": [
    "import pandas as pd\n",
    "df = pd.DataFrame(\n",
    "    {'District':['Hampshire', 'Dorset', 'Wiltshire', 'Worcestershire'],\n",
    "     'Population':[25000, 500000, 735298, 12653],\n",
    "     'Ratio':[1.56, 7.34, 3.67, 8.23],\n",
    "    'dddd':[15,65,25,65]})\n",
    "df"
   ]
  },
  {
   "cell_type": "code",
   "execution_count": 6,
   "metadata": {
    "ExecuteTime": {
     "end_time": "2019-01-14T07:21:47.999654Z",
     "start_time": "2019-01-14T07:21:47.976670Z"
    }
   },
   "outputs": [
    {
     "name": "stderr",
     "output_type": "stream",
     "text": [
      "C:\\Users\\mineo\\Anaconda3\\lib\\site-packages\\pd2ppt-0.1.0-py3.6.egg\\pd2ppt\\pd2ppt.py:128: FutureWarning: Method .as_matrix will be removed in a future version. Use .values instead.\n",
      "  m = df.as_matrix()\n"
     ]
    }
   ],
   "source": [
    "self.add_table_from_df(df)"
   ]
  },
  {
   "cell_type": "code",
   "execution_count": 7,
   "metadata": {
    "ExecuteTime": {
     "end_time": "2019-01-14T07:21:52.566121Z",
     "start_time": "2019-01-14T07:21:52.543132Z"
    }
   },
   "outputs": [],
   "source": [
    "self.ppt.save(\"s.pptx\")"
   ]
  },
  {
   "cell_type": "code",
   "execution_count": 9,
   "metadata": {
    "ExecuteTime": {
     "end_time": "2019-01-14T07:18:43.826704Z",
     "start_time": "2019-01-14T07:18:43.808717Z"
    }
   },
   "outputs": [],
   "source": [
    "self.pptx_to_csv()"
   ]
  },
  {
   "cell_type": "code",
   "execution_count": 8,
   "metadata": {
    "ExecuteTime": {
     "end_time": "2019-01-14T07:21:54.637350Z",
     "start_time": "2019-01-14T07:21:54.601373Z"
    }
   },
   "outputs": [
    {
     "name": "stdout",
     "output_type": "stream",
     "text": [
      "変更  :  python-pptx was here! → python-pptx was here!SNS\n",
      "変更  :   → 変更テスト\n",
      "パワポを更新しました\n"
     ]
    }
   ],
   "source": [
    "self.csv_to_pptx()"
   ]
  },
  {
   "cell_type": "code",
   "execution_count": 9,
   "metadata": {
    "ExecuteTime": {
     "end_time": "2019-01-14T07:22:20.669380Z",
     "start_time": "2019-01-14T07:22:20.646396Z"
    }
   },
   "outputs": [],
   "source": [
    "self.ppt.save(\"ss.pptx\")"
   ]
  },
  {
   "cell_type": "code",
   "execution_count": 10,
   "metadata": {
    "ExecuteTime": {
     "end_time": "2019-01-14T07:29:05.232567Z",
     "start_time": "2019-01-14T07:29:04.970864Z"
    }
   },
   "outputs": [
    {
     "ename": "TypeError",
     "evalue": "save() missing 1 required positional argument: 'file'",
     "output_type": "error",
     "traceback": [
      "\u001b[1;31m---------------------------------------------------------------------------\u001b[0m",
      "\u001b[1;31mTypeError\u001b[0m                                 Traceback (most recent call last)",
      "\u001b[1;32m<ipython-input-10-1ebff5358c11>\u001b[0m in \u001b[0;36m<module>\u001b[1;34m()\u001b[0m\n\u001b[1;32m----> 1\u001b[1;33m \u001b[0mself\u001b[0m\u001b[1;33m.\u001b[0m\u001b[0mppt\u001b[0m\u001b[1;33m.\u001b[0m\u001b[0msave\u001b[0m\u001b[1;33m(\u001b[0m\u001b[1;33m)\u001b[0m\u001b[1;33m\u001b[0m\u001b[0m\n\u001b[0m",
      "\u001b[1;31mTypeError\u001b[0m: save() missing 1 required positional argument: 'file'"
     ]
    }
   ],
   "source": [
    "self.ppt.save()"
   ]
  },
  {
   "cell_type": "markdown",
   "metadata": {},
   "source": [
    "## Power point\n",
    "https://python-pptx.readthedocs.io/en/latest/#"
   ]
  },
  {
   "cell_type": "markdown",
   "metadata": {},
   "source": [
    "### パワポのスライドを作成する(基本）\n",
    "- [Pythonでパワポの説明資料（報告書）を生成する](https://qiita.com/code_440/items/22e8539da465686496d3)"
   ]
  },
  {
   "cell_type": "code",
   "execution_count": 2,
   "metadata": {
    "ExecuteTime": {
     "end_time": "2019-01-14T05:37:58.590332Z",
     "start_time": "2019-01-14T05:37:57.865428Z"
    }
   },
   "outputs": [],
   "source": [
    "from pptx import Presentation\n",
    "import pandas as pd\n",
    "\n",
    "prs = Presentation()\n",
    "title_slide_layout = prs.slide_layouts[0]\n",
    "slide = prs.slides.add_slide(title_slide_layout)\n",
    "title = slide.shapes.title\n",
    "subtitle = slide.placeholders[1]\n",
    "\n",
    "title.text = \"Hello, World!\"\n",
    "subtitle.text = \"python-pptx was here!\"\n",
    "\n",
    "prs.save('test.pptx')"
   ]
  },
  {
   "cell_type": "markdown",
   "metadata": {},
   "source": [
    "### 既存のパワポを読み込み（テンプレートを使用する）"
   ]
  },
  {
   "cell_type": "code",
   "execution_count": 3,
   "metadata": {
    "ExecuteTime": {
     "end_time": "2019-01-14T05:37:59.906449Z",
     "start_time": "2019-01-14T05:37:59.868474Z"
    }
   },
   "outputs": [],
   "source": [
    "prs = Presentation('test.pptx')\n",
    "title_only_slide_layout = prs.slide_layouts[1]\n",
    "slide = prs.slides.add_slide(title_only_slide_layout)\n",
    "shapes = slide.shapes\n",
    "\n",
    "shapes.title.text = '報告書'\n",
    "prs.save('test1.pptx')"
   ]
  },
  {
   "cell_type": "markdown",
   "metadata": {},
   "source": [
    "### pandasの表を追加する\n",
    "https://github.com/robintw/PandasToPowerpoint"
   ]
  },
  {
   "cell_type": "code",
   "execution_count": 5,
   "metadata": {
    "ExecuteTime": {
     "end_time": "2019-01-14T05:39:08.284594Z",
     "start_time": "2019-01-14T05:39:08.237626Z"
    }
   },
   "outputs": [
    {
     "name": "stderr",
     "output_type": "stream",
     "text": [
      "C:\\Users\\mineo\\Anaconda3\\lib\\site-packages\\pd2ppt-0.1.0-py3.6.egg\\pd2ppt\\pd2ppt.py:128: FutureWarning: Method .as_matrix will be removed in a future version. Use .values instead.\n",
      "  m = df.as_matrix()\n"
     ]
    }
   ],
   "source": [
    "# from pd2ppt import df_to_powerpoint\n",
    "import pd2ppt\n",
    "import pandas as pd\n",
    "prs = Presentation('test1.pptx')\n",
    "slide = prs.slides.add_slide(prs.slide_layouts[0])\n",
    "df = pd.DataFrame(\n",
    "    {'District':['Hampshire', 'Dorset', 'Wiltshire', 'Worcestershire'],\n",
    "     'Population':[25000, 500000, 735298, 12653],\n",
    "     'Ratio':[1.56, 7.34, 3.67, 8.23]})\n",
    "# df_to_powerpoint(\n",
    "#     \"test_2.pptx\", df, col_formatters=['', ',', '.2'],\n",
    "#     rounding=['', 3, ''])\n",
    "pd2ppt.df_to_table(slide,df, col_formatters=['', ',', '.2'],rounding=['', 3, ''])\n",
    "prs.save('test2.pptx')"
   ]
  },
  {
   "cell_type": "markdown",
   "metadata": {},
   "source": [
    "## パワポを読み込んでcsvへ保存（diffを見るため）\n",
    "https://stackoverflow.com/questions/37924808/python-pptx-power-point-find-and-replace-text-ctrl-h"
   ]
  },
  {
   "cell_type": "code",
   "execution_count": 6,
   "metadata": {
    "ExecuteTime": {
     "end_time": "2019-01-14T05:41:17.427877Z",
     "start_time": "2019-01-14T05:41:17.422877Z"
    }
   },
   "outputs": [],
   "source": [
    "def read_table(tbl):\n",
    "    table_tex = []\n",
    "    for r in enumerate(tbl.rows):\n",
    "#         print(r[0])\n",
    "        temp = []\n",
    "        for c in enumerate(tbl.columns):\n",
    "#             print(c[0])\n",
    "            tex = tbl.cell(r[0],c[0]).text\n",
    "            temp.append(tex)\n",
    "        table_tex.append(temp)\n",
    "    return table_tex"
   ]
  },
  {
   "cell_type": "code",
   "execution_count": 28,
   "metadata": {
    "ExecuteTime": {
     "end_time": "2019-01-14T05:58:58.434769Z",
     "start_time": "2019-01-14T05:58:58.405788Z"
    },
    "scrolled": true
   },
   "outputs": [],
   "source": [
    "from pptx import Presentation\n",
    "ppt = Presentation('test2.pptx')\n",
    "li = []\n",
    "for slide in ppt.slides:\n",
    "    for shape in slide.shapes:\n",
    "        if shape.has_text_frame:\n",
    "#             print(slide.slide_id,shape.shape_id, shape.text)\n",
    "            li.append([slide.slide_id,shape.shape_id, shape.text])\n",
    "        if shape.has_table:\n",
    "            aaa= shape\n",
    "#             print(slide.slide_id,shape.shape_id,read_table(shape.table)\n",
    "            li.append([slide.slide_id,shape.shape_id,read_table(shape.table)])\n",
    "df_a = pd.DataFrame(li)\n",
    "df_a.columns=[\"slide_id\",\"shape_id\",\"text\"]\n",
    "df_a.to_csv(\"test.csv\" ,index=False)"
   ]
  },
  {
   "cell_type": "code",
   "execution_count": 29,
   "metadata": {
    "ExecuteTime": {
     "end_time": "2019-01-14T05:58:59.176160Z",
     "start_time": "2019-01-14T05:58:59.166152Z"
    },
    "scrolled": true
   },
   "outputs": [
    {
     "data": {
      "text/html": [
       "<div>\n",
       "<style scoped>\n",
       "    .dataframe tbody tr th:only-of-type {\n",
       "        vertical-align: middle;\n",
       "    }\n",
       "\n",
       "    .dataframe tbody tr th {\n",
       "        vertical-align: top;\n",
       "    }\n",
       "\n",
       "    .dataframe thead th {\n",
       "        text-align: right;\n",
       "    }\n",
       "</style>\n",
       "<table border=\"1\" class=\"dataframe\">\n",
       "  <thead>\n",
       "    <tr style=\"text-align: right;\">\n",
       "      <th></th>\n",
       "      <th>slide_id</th>\n",
       "      <th>shape_id</th>\n",
       "      <th>text</th>\n",
       "    </tr>\n",
       "  </thead>\n",
       "  <tbody>\n",
       "    <tr>\n",
       "      <th>0</th>\n",
       "      <td>256</td>\n",
       "      <td>2</td>\n",
       "      <td>Hello, World!</td>\n",
       "    </tr>\n",
       "    <tr>\n",
       "      <th>1</th>\n",
       "      <td>256</td>\n",
       "      <td>3</td>\n",
       "      <td>python-pptx was here!</td>\n",
       "    </tr>\n",
       "    <tr>\n",
       "      <th>2</th>\n",
       "      <td>257</td>\n",
       "      <td>2</td>\n",
       "      <td>報告書</td>\n",
       "    </tr>\n",
       "    <tr>\n",
       "      <th>3</th>\n",
       "      <td>257</td>\n",
       "      <td>3</td>\n",
       "      <td></td>\n",
       "    </tr>\n",
       "    <tr>\n",
       "      <th>4</th>\n",
       "      <td>258</td>\n",
       "      <td>2</td>\n",
       "      <td></td>\n",
       "    </tr>\n",
       "    <tr>\n",
       "      <th>5</th>\n",
       "      <td>258</td>\n",
       "      <td>3</td>\n",
       "      <td></td>\n",
       "    </tr>\n",
       "    <tr>\n",
       "      <th>6</th>\n",
       "      <td>258</td>\n",
       "      <td>4</td>\n",
       "      <td>[[District, Population, Ratio], [Hampshire, 25...</td>\n",
       "    </tr>\n",
       "  </tbody>\n",
       "</table>\n",
       "</div>"
      ],
      "text/plain": [
       "   slide_id  shape_id                                               text\n",
       "0       256         2                                      Hello, World!\n",
       "1       256         3                              python-pptx was here!\n",
       "2       257         2                                                報告書\n",
       "3       257         3                                                   \n",
       "4       258         2                                                   \n",
       "5       258         3                                                   \n",
       "6       258         4  [[District, Population, Ratio], [Hampshire, 25..."
      ]
     },
     "execution_count": 29,
     "metadata": {},
     "output_type": "execute_result"
    }
   ],
   "source": [
    "df_a"
   ]
  },
  {
   "cell_type": "markdown",
   "metadata": {},
   "source": [
    "## diffを見てcsvを編集した際、その編集結果をパワポへ反映（テーブルはまだできない）"
   ]
  },
  {
   "cell_type": "code",
   "execution_count": 1,
   "metadata": {
    "ExecuteTime": {
     "end_time": "2019-01-14T06:35:12.548994Z",
     "start_time": "2019-01-14T06:35:11.933366Z"
    }
   },
   "outputs": [],
   "source": [
    "import pandas as pd\n",
    "from pptx import Presentation"
   ]
  },
  {
   "cell_type": "code",
   "execution_count": 2,
   "metadata": {
    "ExecuteTime": {
     "end_time": "2019-01-14T06:35:13.355251Z",
     "start_time": "2019-01-14T06:35:13.350252Z"
    }
   },
   "outputs": [],
   "source": [
    "def find_shape(ppt,slide_id,shape_id):\n",
    "    for slide in ppt.slides:\n",
    "        if slide.slide_id == slide_id:\n",
    "            for shape in slide.shapes:\n",
    "                if shape.shape_id == shape_id:\n",
    "                    tg = shape\n",
    "                    return tg"
   ]
  },
  {
   "cell_type": "code",
   "execution_count": 3,
   "metadata": {
    "ExecuteTime": {
     "end_time": "2019-01-14T06:35:13.844081Z",
     "start_time": "2019-01-14T06:35:13.806104Z"
    }
   },
   "outputs": [],
   "source": [
    "df_t = pd.read_csv(\"test.csv\")\n",
    "li_henko = df_t.values.tolist()\n",
    "ppt = Presentation('test2.pptx')"
   ]
  },
  {
   "cell_type": "code",
   "execution_count": 5,
   "metadata": {
    "ExecuteTime": {
     "end_time": "2019-01-14T06:36:14.709142Z",
     "start_time": "2019-01-14T06:36:14.695153Z"
    }
   },
   "outputs": [
    {
     "name": "stdout",
     "output_type": "stream",
     "text": [
      "変更なし\n"
     ]
    }
   ],
   "source": [
    "hata = 0\n",
    "for elm in li_henko:\n",
    "    taisho_shape = find_shape(ppt,elm[0],elm[1])\n",
    "    if taisho_shape.has_text_frame:\n",
    "#         print( taisho_shape.text, elm[2])\n",
    "        if taisho_shape.text != elm[2] and isinstance(elm[2], str):\n",
    "            print(\"変更  :  \" + taisho_shape.text +\" → \"+ str(elm[2]))\n",
    "            taisho_shape.text = elm[2]\n",
    "            hata = 1\n",
    "#     if taisho_shape.has_table:\n",
    "#             write_table(taisho_shape.table,elm)\n",
    "\n",
    "if hata == 0:\n",
    "    print(\"変更なし\")\n",
    "else:\n",
    "    print(\"パワポを更新しました\")\n",
    "    ppt.save('test3.pptx')"
   ]
  },
  {
   "cell_type": "markdown",
   "metadata": {},
   "source": [
    "## factory"
   ]
  },
  {
   "cell_type": "markdown",
   "metadata": {
    "ExecuteTime": {
     "end_time": "2019-01-14T04:07:04.477450Z",
     "start_time": "2019-01-14T04:07:04.470452Z"
    }
   },
   "source": [
    "### 双方向で編集できるようにする（テーブル）\n",
    "問題はリストをそのまま文字列にしてしまったところ。需要を見て今後の更新を決めよう"
   ]
  },
  {
   "cell_type": "code",
   "execution_count": 8,
   "metadata": {
    "ExecuteTime": {
     "end_time": "2019-01-14T06:37:49.439512Z",
     "start_time": "2019-01-14T06:37:49.432518Z"
    }
   },
   "outputs": [],
   "source": [
    "table_tex = find_shape(ppt,258,4)"
   ]
  },
  {
   "cell_type": "code",
   "execution_count": 160,
   "metadata": {
    "ExecuteTime": {
     "end_time": "2019-01-14T04:02:49.870761Z",
     "start_time": "2019-01-14T04:02:49.864764Z"
    }
   },
   "outputs": [],
   "source": [
    "def write_table(tbl,elm):\n",
    "    table_tex = elm[2]\n",
    "    for r in enumerate(tbl.rows):\n",
    "        row_tex = elm[r[0]]\n",
    "        for c in enumerate(tbl.columns):\n",
    "            col_tex = elm[r[0],c[0]]\n",
    "            tex = tbl.cell(r[0],c[0]).text\n",
    "            if tex != col_tex :\n",
    "                tbl.cell(r[0],c[0]).text = col_tex\n",
    "                print(\"henko\" + tex +\" → \"+ col_tex)"
   ]
  },
  {
   "cell_type": "markdown",
   "metadata": {},
   "source": [
    "## 参考\n",
    "- pythonで生成されたPPTXのテーブルの各行に一番下の行を追加する https://stackoverflow.com/questions/35915996/adding-a-bottom-line-to-each-row-in-a-table-in-a-pptx-generated-by-python\n",
    "- Read From PowerPoint Table in Python? https://stackoverflow.com/questions/27843018/read-from-powerpoint-table-in-python"
   ]
  }
 ],
 "metadata": {
  "kernelspec": {
   "display_name": "Python 3",
   "language": "python",
   "name": "python3"
  },
  "language_info": {
   "codemirror_mode": {
    "name": "ipython",
    "version": 3
   },
   "file_extension": ".py",
   "mimetype": "text/x-python",
   "name": "python",
   "nbconvert_exporter": "python",
   "pygments_lexer": "ipython3",
   "version": "3.6.5"
  },
  "nbTranslate": {
   "displayLangs": [
    "ja",
    "en"
   ],
   "hotkey": "alt-t",
   "langInMainMenu": true,
   "sourceLang": "en",
   "targetLang": "ja",
   "useGoogleTranslate": true
  },
  "toc": {
   "base_numbering": 1,
   "nav_menu": {},
   "number_sections": true,
   "sideBar": true,
   "skip_h1_title": false,
   "title_cell": "Table of Contents",
   "title_sidebar": "Contents",
   "toc_cell": false,
   "toc_position": {
    "height": "calc(100% - 180px)",
    "left": "10px",
    "top": "150px",
    "width": "278.906px"
   },
   "toc_section_display": true,
   "toc_window_display": true
  },
  "varInspector": {
   "cols": {
    "lenName": 16,
    "lenType": 16,
    "lenVar": 40
   },
   "kernels_config": {
    "python": {
     "delete_cmd_postfix": "",
     "delete_cmd_prefix": "del ",
     "library": "var_list.py",
     "varRefreshCmd": "print(var_dic_list())"
    },
    "r": {
     "delete_cmd_postfix": ") ",
     "delete_cmd_prefix": "rm(",
     "library": "var_list.r",
     "varRefreshCmd": "cat(var_dic_list()) "
    }
   },
   "types_to_exclude": [
    "module",
    "function",
    "builtin_function_or_method",
    "instance",
    "_Feature"
   ],
   "window_display": false
  }
 },
 "nbformat": 4,
 "nbformat_minor": 2
}
